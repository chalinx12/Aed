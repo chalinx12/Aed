{
  "nbformat": 4,
  "nbformat_minor": 0,
  "metadata": {
    "colab": {
      "name": "parcial.ipynb",
      "provenance": [],
      "authorship_tag": "ABX9TyOiMfD2nP13NwEh4MznwkTB",
      "include_colab_link": true
    },
    "kernelspec": {
      "name": "python3",
      "display_name": "Python 3"
    },
    "language_info": {
      "name": "python"
    }
  },
  "cells": [
    {
      "cell_type": "markdown",
      "metadata": {
        "id": "view-in-github",
        "colab_type": "text"
      },
      "source": [
        "<a href=\"https://colab.research.google.com/github/chalinx12/Aed/blob/master/parcial.ipynb\" target=\"_parent\"><img src=\"https://colab.research.google.com/assets/colab-badge.svg\" alt=\"Open In Colab\"/></a>"
      ]
    },
    {
      "cell_type": "code",
      "metadata": {
        "id": "NwEQF72UISdf"
      },
      "source": [
        "  def contarletras(a):\n",
        "    dic={}                 \n",
        "    while a :\n",
        "     aux=a[0];\n",
        "     cont=0\n",
        "     for i in a:\n",
        "       if i==aux and i!=' ':\n",
        "         cont+=1\n",
        "     a=a.replace(aux,\"\")     \n",
        "     if aux!=' ':\n",
        "       dic[aux]=cont \n",
        "    return dic"
      ],
      "execution_count": null,
      "outputs": []
    },
    {
      "cell_type": "code",
      "metadata": {
        "colab": {
          "base_uri": "https://localhost:8080/"
        },
        "id": "MMmQFfKURGZ6",
        "outputId": "bbf2785a-f2b9-4dbd-84ed-b79b18a0460c"
      },
      "source": [
        "a=\"mi mama\"\n",
        "contarletras(a)"
      ],
      "execution_count": null,
      "outputs": [
        {
          "output_type": "execute_result",
          "data": {
            "text/plain": [
              "{'a': 2, 'i': 1, 'm': 3}"
            ]
          },
          "metadata": {},
          "execution_count": 2
        }
      ]
    },
    {
      "cell_type": "code",
      "metadata": {
        "id": "pdESKiZcF3nV",
        "colab": {
          "base_uri": "https://localhost:8080/",
          "height": 130
        },
        "outputId": "a9103ca8-83b7-4b33-dd33-ea2a48f98014"
      },
      "source": [
        "def NDirigida(l):\n",
        "    for u in range(l):\n",
        "        for v in l[u]:\n",
        "            "
      ],
      "execution_count": 1,
      "outputs": [
        {
          "output_type": "error",
          "ename": "SyntaxError",
          "evalue": "ignored",
          "traceback": [
            "\u001b[0;36m  File \u001b[0;32m\"<ipython-input-1-f9d38f27a980>\"\u001b[0;36m, line \u001b[0;32m4\u001b[0m\n\u001b[0;31m    \u001b[0m\n\u001b[0m    ^\u001b[0m\n\u001b[0;31mSyntaxError\u001b[0m\u001b[0;31m:\u001b[0m unexpected EOF while parsing\n"
          ]
        }
      ]
    },
    {
      "cell_type": "code",
      "metadata": {
        "id": "tnZgfXnmnMCp"
      },
      "source": [
        ""
      ],
      "execution_count": null,
      "outputs": []
    }
  ]
}